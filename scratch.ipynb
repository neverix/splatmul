{
 "cells": [
  {
   "cell_type": "code",
   "execution_count": 1,
   "metadata": {},
   "outputs": [],
   "source": [
    "import os\n",
    "os.environ[\"JAX_PLATFORMS\"] = \"cpu\"\n",
    "import jax.numpy as jnp\n",
    "from splatmul import matmat, splatsplat, splatmat\n",
    "from ml_dtypes import bfloat16\n",
    "import numpy as np\n",
    "\n",
    "w_size = 1024\n",
    "hidden_size = 1024\n",
    "weight_enc, weight_dec = matmat(w_size, hidden_size)\n",
    "weight_dec = weight_dec.view(bfloat16).copy()\n",
    "weight_dec = np.ascontiguousarray(weight_dec)\n",
    "adam_state = splatsplat(w_size, hidden_size,\n",
    "                        1e-4, 0.9, 0.999, 1e-8, 16)\n",
    "grad = weight_dec * np.array(1e-3, dtype=bfloat16)"
   ]
  },
  {
   "cell_type": "code",
   "execution_count": 6,
   "metadata": {},
   "outputs": [],
   "source": [
    "import ctypes\n",
    "\n",
    "\n",
    "def get_writeable_bit():\n",
    "    max_arr_size = 128\n",
    "    test_arr = np.array(1, dtype=np.uint16)\n",
    "    ptr = id(test_arr)\n",
    "    str_a = ctypes.string_at(ptr, max_arr_size)\n",
    "    test_arr.setflags(write=0)\n",
    "    str_b = ctypes.string_at(ptr, max_arr_size)\n",
    "    writeable_bit = None\n",
    "    for i in range(max_arr_size):\n",
    "        if str_a[i] != str_b[i]:\n",
    "            byte_a, byte_b = bin(str_a[i])[2:].zfill(8), bin(str_b[i])[2:].zfill(8)\n",
    "            for j in range(8):\n",
    "                if byte_a[j] != byte_b[j]:\n",
    "                    writeable_bit = i * 8 + j\n",
    "    writeable_byte = writeable_bit // 8, writeable_bit % 8\n",
    "    return writeable_byte\n",
    "\n",
    "def transmogrify(x):\n",
    "    byte, bit = get_writeable_bit()\n",
    "    ptr = id(x)\n",
    "    current = ctypes.string_at(ptr + byte, 1)\n",
    "    target = current[0] | (1 << (7-bit))\n",
    "    ctypes.memset(ptr + byte, target, 1)\n",
    "    return x"
   ]
  },
  {
   "cell_type": "code",
   "execution_count": 7,
   "metadata": {},
   "outputs": [],
   "source": [
    "def jj(x):\n",
    "    x = jnp.asarray(x).view(jnp.uint16)\n",
    "    x = np.asarray(x)\n",
    "    x = transmogrify(x)\n",
    "    return x\n",
    "grad_ = jj(grad)\n",
    "weight_dec_ = jj(weight_dec)"
   ]
  },
  {
   "cell_type": "code",
   "execution_count": 8,
   "metadata": {},
   "outputs": [
    {
     "name": "stdout",
     "output_type": "stream",
     "text": [
      "47107\n",
      "asserting layouts\n",
      "into slice\n",
      "updating adam\n",
      "updating m\n",
      "updating v\n",
      "updating parameters\n",
      "all done\n",
      "48384\n"
     ]
    }
   ],
   "source": [
    "print(np.abs(grad_).max())\n",
    "splatmat(adam_state, grad_, weight_dec_)\n",
    "print(np.abs(weight_dec_).max())"
   ]
  }
 ],
 "metadata": {
  "kernelspec": {
   "display_name": "micrlhf-progress-a058ydGG-py3.10",
   "language": "python",
   "name": "python3"
  },
  "language_info": {
   "codemirror_mode": {
    "name": "ipython",
    "version": 3
   },
   "file_extension": ".py",
   "mimetype": "text/x-python",
   "name": "python",
   "nbconvert_exporter": "python",
   "pygments_lexer": "ipython3",
   "version": "3.10.6"
  }
 },
 "nbformat": 4,
 "nbformat_minor": 2
}
